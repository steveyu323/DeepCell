{
 "cells": [
  {
   "cell_type": "markdown",
   "metadata": {},
   "source": [
    "## 200521\n",
    "1. Finish the intro-to-deepcell tutorials\n",
    "    1. Unix Tutorial -- got it\n",
    "    2. Docker -- read through, set up\n",
    "    3. Git -- Familiar\n",
    "    4. Python Image-Processing\n",
    "\n",
    "TODOs:\n",
    "1. Ask Will about my lab name and pwd to access lab server"
   ]
  },
  {
   "cell_type": "markdown",
   "metadata": {},
   "source": [
    "## 200525\n",
    "1. Read Reference on Watershed algorithm for segmentation\n",
    "2. Walk through deep learning in Keras tutorial\n",
    "3. Walk through segmentation pipeline on .io page   \n",
    "    1) losses.weighted_categorical_crossentropy?   \n",
    "    2) Why doesn't testing data use foreground background semantic?   \n",
    "    3) No Training Data available for Spot detection on DeepCell.org    \n",
    "    4) Lab Name and Password to access cluster   \n"
   ]
  },
  {
   "cell_type": "markdown",
   "metadata": {},
   "source": [
    "## 200530\n",
    "1. add to Van Valen Calendar\n",
    "2. added to Slack\n",
    "3. Ask Will Graf to add me onto github again and also a user setup for the cluster Northstar\n",
    "4. Read through https://sites.google.com/site/singlemoleculernafish/faq    \n",
    "   Notes:\n",
    "   - How do you know you're getting all the RNA in the cell: using two different colors to target the same molecules and evaluating their colocalization"
   ]
  },
  {
   "cell_type": "markdown",
   "metadata": {},
   "source": [
    "### TO-DO: Reply Nitzan once all setup"
   ]
  },
  {
   "cell_type": "markdown",
   "metadata": {},
   "source": [
    "## 200604\n",
    "1. A Structured Tumor-Immune Microenvironm...vealed by Multiplexed Ion Beam Imaging\n",
    "2. Protein velocity and acceleration from single-cell multiomics experiments\n",
    "3. Graph Convolutional Network intro [https://towardsdatascience.com/how-to-do-deep-learning-on-graphs-with-graph-convolutional-networks-62acf5b143d0]\n",
    "4. Go through TFX tutorial"
   ]
  },
  {
   "cell_type": "markdown",
   "metadata": {},
   "source": [
    "IP: 131.215.8.168    \n",
    "Username: changhua    \n",
    "Password: Changhua (CHANGE THIS ASAP with \"passwd\" after login)    \n",
    "Port: 5078    \n",
    "example: `ssh -p 5078 changhua@131.215.8.168`    \n",
    "I also recommend saving the IP address in your \"/etc/hosts\" file (assuming *nix OS).\n"
   ]
  },
  {
   "cell_type": "code",
   "execution_count": null,
   "metadata": {},
   "outputs": [],
   "source": []
  },
  {
   "cell_type": "markdown",
   "metadata": {},
   "source": [
    "## 200609\n",
    "1. GeeksForGeeks Tutorial on Registration in OpenCV\n",
    "    - https://www.geeksforgeeks.org/image-registration-using-opencv-python/\n",
    "    - ORB to find keypoints and descriptors, ute Force matcher with Hamming distance as measurement mode\n",
    "2. Affine Registration in 3D\n",
    "3. SimpleElastix seems like a well documented and extensible object oriented registration package\n",
    "4. DIPY, Open3D could be potential options"
   ]
  },
  {
   "cell_type": "markdown",
   "metadata": {},
   "source": [
    "## 200611\n",
    "1. Installation of SimpleElastix on MacOS (Linux):\n",
    "    - Details in the SimpleElastix notebook"
   ]
  },
  {
   "cell_type": "markdown",
   "metadata": {},
   "source": [
    "## 200612\n",
    "\n",
    "1. Installation of SimpleElastix and running through the documented examples"
   ]
  },
  {
   "cell_type": "markdown",
   "metadata": {},
   "source": [
    "## 200614\n",
    "\n",
    "1. build-up and run through SimpleElastix pipeline methods on examples and van valen lab tissue image \n",
    "\n",
    "#### TO-DO:\n",
    "- Better Overlapping visualization and metrics\n",
    "- Better tuning of the pyrimidal approach"
   ]
  },
  {
   "cell_type": "code",
   "execution_count": null,
   "metadata": {},
   "outputs": [],
   "source": []
  },
  {
   "cell_type": "code",
   "execution_count": null,
   "metadata": {},
   "outputs": [],
   "source": []
  }
 ],
 "metadata": {
  "kernelspec": {
   "display_name": "Python 3",
   "language": "python",
   "name": "python3"
  },
  "language_info": {
   "codemirror_mode": {
    "name": "ipython",
    "version": 3
   },
   "file_extension": ".py",
   "mimetype": "text/x-python",
   "name": "python",
   "nbconvert_exporter": "python",
   "pygments_lexer": "ipython3",
   "version": "3.7.3"
  }
 },
 "nbformat": 4,
 "nbformat_minor": 4
}
